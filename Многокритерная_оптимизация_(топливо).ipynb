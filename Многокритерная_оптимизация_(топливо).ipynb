{
  "nbformat": 4,
  "nbformat_minor": 0,
  "metadata": {
    "kernelspec": {
      "display_name": "Python 3",
      "language": "python",
      "name": "python3"
    },
    "colab": {
      "name": "Многокритерная оптимизация (топливо).ipynb",
      "provenance": [],
      "include_colab_link": true
    }
  },
  "cells": [
    {
      "cell_type": "markdown",
      "metadata": {
        "id": "view-in-github",
        "colab_type": "text"
      },
      "source": [
        "<a href=\"https://colab.research.google.com/github/Muhamadsulton/-/blob/%D0%9C%D0%B5%D1%82%D0%BE%D0%B4%D1%8B-%D0%BE%D0%BF%D1%82%D0%B8%D0%BC%D0%B8%D0%B7%D0%B0%D1%86%D0%B8%D0%B8/%D0%9C%D0%BD%D0%BE%D0%B3%D0%BE%D0%BA%D1%80%D0%B8%D1%82%D0%B5%D1%80%D0%BD%D0%B0%D1%8F_%D0%BE%D0%BF%D1%82%D0%B8%D0%BC%D0%B8%D0%B7%D0%B0%D1%86%D0%B8%D1%8F_(%D1%82%D0%BE%D0%BF%D0%BB%D0%B8%D0%B2%D0%BE).ipynb\" target=\"_parent\"><img src=\"https://colab.research.google.com/assets/colab-badge.svg\" alt=\"Open In Colab\"/></a>"
      ]
    },
    {
      "cell_type": "code",
      "metadata": {
        "id": "lK94fIPk0dH5",
        "outputId": "f98134f7-26ce-4c00-cf22-9bb405f73ca6"
      },
      "source": [
        "import math\n",
        "from scipy.optimize import minimize  # берем готовую библиотечную функцию minimize\n",
        "\n",
        "# задаим исходные данные в километрах\n",
        "\n",
        "h1 = 0.10  # 100 метров\n",
        "h2 = 0.10  # 100 метров\n",
        "l = 1  # 1000 метров\n",
        "\n",
        "v1 = 40  # 40 км/ч\n",
        "v2 = 30  # 30 км/ч\n",
        "\n",
        "c1 = 0.115  # л/км\n",
        "c2 = 0.15  # л/км\n",
        "\n",
        "# описываем функцию, которую хотим минимизировать\n",
        "\n",
        "def func_to_minimize(x):\n",
        "    L1 = math.sqrt(h1 ** 2 + x ** 2) * c1\n",
        "    L2 = math.sqrt(h2 ** 2 + (l - x)** 2) * c2\n",
        "    return L1 + L2\n",
        "    \n",
        "# Зададим начальное значение x, пусть это будет самое начало поля, т.е., вначале мы поедем вериткально вверх,\n",
        "# а затем, как только достигнем конца засеянной части, кратчайшим путем поедем в правый верхний угол поля\n",
        "x = 0\n",
        "\n",
        "# а теперь минимизируем нашу функцию\n",
        "result = minimize(func_to_minimize, x)\n",
        "print(result)  # выведем наш результа на экран"
      ],
      "execution_count": null,
      "outputs": [
        {
          "output_type": "stream",
          "text": [
            "      fun: 0.1252808893080351\n",
            " hess_inv: array([[2.45362628]])\n",
            "      jac: array([-4.84287739e-08])\n",
            "  message: 'Optimization terminated successfully.'\n",
            "     nfev: 36\n",
            "      nit: 10\n",
            "     njev: 12\n",
            "   status: 0\n",
            "  success: True\n",
            "        x: array([0.88240758])\n"
          ],
          "name": "stdout"
        }
      ]
    },
    {
      "cell_type": "code",
      "metadata": {
        "id": "MDd1AlYq0dH_"
      },
      "source": [
        ""
      ],
      "execution_count": null,
      "outputs": []
    },
    {
      "cell_type": "code",
      "metadata": {
        "id": "dHL7LlSe0dH_"
      },
      "source": [
        ""
      ],
      "execution_count": null,
      "outputs": []
    }
  ]
}