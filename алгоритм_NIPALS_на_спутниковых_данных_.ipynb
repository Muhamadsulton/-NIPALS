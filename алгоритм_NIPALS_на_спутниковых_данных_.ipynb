{
  "nbformat": 4,
  "nbformat_minor": 0,
  "metadata": {
    "kernelspec": {
      "display_name": "Python 3",
      "language": "python",
      "name": "python3"
    },
    "language_info": {
      "codemirror_mode": {
        "name": "ipython",
        "version": 3
      },
      "file_extension": ".py",
      "mimetype": "text/x-python",
      "name": "python",
      "nbconvert_exporter": "python",
      "pygments_lexer": "ipython3",
      "version": "3.7.4"
    },
    "colab": {
      "name": "алгоритм NIPALS на спутниковых данных .ipynb",
      "provenance": [],
      "collapsed_sections": [],
      "include_colab_link": true
    }
  },
  "cells": [
    {
      "cell_type": "markdown",
      "metadata": {
        "id": "view-in-github",
        "colab_type": "text"
      },
      "source": [
        "<a href=\"https://colab.research.google.com/github/Muhamadsulton/-/blob/main/%D0%B0%D0%BB%D0%B3%D0%BE%D1%80%D0%B8%D1%82%D0%BC_NIPALS_%D0%BD%D0%B0_%D1%81%D0%BF%D1%83%D1%82%D0%BD%D0%B8%D0%BA%D0%BE%D0%B2%D1%8B%D1%85_%D0%B4%D0%B0%D0%BD%D0%BD%D1%8B%D1%85_.ipynb\" target=\"_parent\"><img src=\"https://colab.research.google.com/assets/colab-badge.svg\" alt=\"Open In Colab\"/></a>"
      ]
    },
    {
      "cell_type": "code",
      "metadata": {
        "id": "H9TPXJlNfiSr"
      },
      "source": [
        "import numpy as np"
      ],
      "execution_count": null,
      "outputs": []
    },
    {
      "cell_type": "code",
      "metadata": {
        "id": "O7xYAsDFfiSy"
      },
      "source": [
        "#загрузка данных эфемерид\n",
        "data=np.loadtxt('data.txt')"
      ],
      "execution_count": null,
      "outputs": []
    },
    {
      "cell_type": "code",
      "metadata": {
        "id": "JrKkon61fiSz",
        "outputId": "63fbaa7f-7b9d-46af-e5b1-1638654f06b9"
      },
      "source": [
        "#разбиение на суточные интервалы\n",
        "N=len(data)\n",
        "kol_elem=N*3\n",
        "m=12*60//5+1\n",
        "n=N-m+1\n",
        "print(n)"
      ],
      "execution_count": null,
      "outputs": [
        {
          "output_type": "stream",
          "text": [
            "103543\n"
          ],
          "name": "stdout"
        }
      ]
    },
    {
      "cell_type": "code",
      "metadata": {
        "id": "3h3n1nhLfiS0"
      },
      "source": [
        "#преоброзование в 12 часовые векторы с интервалом в 5 минут\n",
        "b=np.reshape(data,(1,kol_elem))[0]\n",
        "c=np.array([b[i:3*m+i] for i in range(2,n,3)]) \n",
        "np.shape(c)\n",
        "df=open('1233321.txt','w')\n",
        "#np.savetxt('11.txt',c,delimiter='\\t')\n",
        "#print(c)\n",
        "#df.write(str(c)+'\\n')\n",
        "#df.close()"
      ],
      "execution_count": null,
      "outputs": []
    },
    {
      "cell_type": "code",
      "metadata": {
        "id": "T0VTJkaAfiS0"
      },
      "source": [
        "m=c.mean(axis=0)#среднее по столбцу\n",
        "Xcen=c-m #центрируем данные \n",
        "MeanC=Xcen.mean(axis=0)#взяли среднее столбцов в центрированом массиве должны быть близкие к нулю "
      ],
      "execution_count": null,
      "outputs": []
    },
    {
      "cell_type": "code",
      "metadata": {
        "id": "AHQmhhuffiS1",
        "outputId": "ee37c2bb-7425-4b63-8a7d-b7c3b6849c5f"
      },
      "source": [
        "for i in range(1):\n",
        "    x=(np.random.randint(-50,60,size=(150,1))*e1 + np.random.randint(-25,30,size=(150,1))*e2 + np.random.randint(-12,14,size=(150,1))*e3+np.random.randint(-8,16,size=(150,1))*e4+np.random.randint(-4,8,size=(150,1))*e5+np.random.random(size=(150,16)))\n",
        "#находим среднее значения каждого столбца в массиве\n",
        "m=с.mean(axis=0)\n",
        "Xcen=с-m #центрируем данные \n",
        "MeanC=Xcen.mean(axis=0)#взяли среднее столбцов в центрированом массиве должны быть близкие к нулю \n",
        "for i in range(16):#16количество столбцов \n",
        "    data=open(\"data.txt\",'a') #открыть файл на дозапись \n",
        "    tr=np.transpose(Xcen) #алгоритм Нипалс берем любой элемент из столбца для этого и транспонируем \n",
        "    t=tr[0] #берем начальную точку с генерированного массива\n",
        "    b=0.1,sqrt_a=1\n",
        "    while sqrt_a > b: #выполнять пока корень из а болье b \n",
        "        p1=np.matmul(np.transpose(t),Xcen) #расчет вектора нагрузок\n",
        "        p2=np.matmul(np.transpose(t),t)\n",
        "        p=p1/p2\n",
        "        pt=np.transpose(p)\n",
        "        p3=np.matmul(pt,p)#делаем нормировку\n",
        "        p_norm=p/np.sqrt(p3)\n",
        "        p4=np.matmul(p_norm,np.transpose(p_norm))\n",
        "        t1=np.matmul(Xcen,p_norm)#расчет вектор счетов\n",
        "        t_main=t1/p4\n",
        "        np.shape(t_main)\n",
        "        Dt=t-t_main #проверка сходимости ,если нет то вернуться к шагу 2 \n",
        "        a=np.matmul(np.transpose(Dt),Dt)\n",
        "        sqrt_a=np.sqrt(a)\n",
        "        t=t_main\n",
        "    t_a=t\n",
        "    p_a=p_norm\n",
        "    tNew=t_a[:,np.newaxis]\n",
        "    ptNew=p_norm[:,np.newaxis]\n",
        "    X1=np.matmul(tNew,np.transpose(ptNew))\n",
        "    Xcen=-X1+Xcen\n",
        "    Xcen_pow=np.power(Xcen,2)\n",
        "    Xcen_sum=np.sum(Xcen_pow)\n",
        "    print(Xcen_sum)\n",
        "    flo=Xcen_sum.astype(str)\n",
        "    data.write(flo + '\\n')\n",
        "    data.close"
      ],
      "execution_count": null,
      "outputs": [
        {
          "output_type": "error",
          "ename": "ValueError",
          "evalue": "array is too big; `arr.size * arr.dtype.itemsize` is larger than the maximum possible size.",
          "traceback": [
            "\u001b[1;31m---------------------------------------------------------------------------\u001b[0m",
            "\u001b[1;31mValueError\u001b[0m                                Traceback (most recent call last)",
            "\u001b[1;32m<ipython-input-9-82180cd45af1>\u001b[0m in \u001b[0;36m<module>\u001b[1;34m\u001b[0m\n\u001b[1;32m----> 1\u001b[1;33m \u001b[0mU\u001b[0m\u001b[1;33m,\u001b[0m\u001b[0mS\u001b[0m\u001b[1;33m,\u001b[0m\u001b[0mW\u001b[0m\u001b[1;33m=\u001b[0m\u001b[0mnp\u001b[0m\u001b[1;33m.\u001b[0m\u001b[0mlinalg\u001b[0m\u001b[1;33m.\u001b[0m\u001b[0msvd\u001b[0m\u001b[1;33m(\u001b[0m\u001b[0mXcen\u001b[0m\u001b[1;33m)\u001b[0m\u001b[1;33m\u001b[0m\u001b[1;33m\u001b[0m\u001b[0m\n\u001b[0m",
            "\u001b[1;32mC:\\ProgramData\\Anaconda3\\lib\\site-packages\\numpy\\linalg\\linalg.py\u001b[0m in \u001b[0;36msvd\u001b[1;34m(a, full_matrices, compute_uv)\u001b[0m\n\u001b[0;32m   1610\u001b[0m \u001b[1;33m\u001b[0m\u001b[0m\n\u001b[0;32m   1611\u001b[0m         \u001b[0msignature\u001b[0m \u001b[1;33m=\u001b[0m \u001b[1;34m'D->DdD'\u001b[0m \u001b[1;32mif\u001b[0m \u001b[0misComplexType\u001b[0m\u001b[1;33m(\u001b[0m\u001b[0mt\u001b[0m\u001b[1;33m)\u001b[0m \u001b[1;32melse\u001b[0m \u001b[1;34m'd->ddd'\u001b[0m\u001b[1;33m\u001b[0m\u001b[1;33m\u001b[0m\u001b[0m\n\u001b[1;32m-> 1612\u001b[1;33m         \u001b[0mu\u001b[0m\u001b[1;33m,\u001b[0m \u001b[0ms\u001b[0m\u001b[1;33m,\u001b[0m \u001b[0mvh\u001b[0m \u001b[1;33m=\u001b[0m \u001b[0mgufunc\u001b[0m\u001b[1;33m(\u001b[0m\u001b[0ma\u001b[0m\u001b[1;33m,\u001b[0m \u001b[0msignature\u001b[0m\u001b[1;33m=\u001b[0m\u001b[0msignature\u001b[0m\u001b[1;33m,\u001b[0m \u001b[0mextobj\u001b[0m\u001b[1;33m=\u001b[0m\u001b[0mextobj\u001b[0m\u001b[1;33m)\u001b[0m\u001b[1;33m\u001b[0m\u001b[1;33m\u001b[0m\u001b[0m\n\u001b[0m\u001b[0;32m   1613\u001b[0m         \u001b[0mu\u001b[0m \u001b[1;33m=\u001b[0m \u001b[0mu\u001b[0m\u001b[1;33m.\u001b[0m\u001b[0mastype\u001b[0m\u001b[1;33m(\u001b[0m\u001b[0mresult_t\u001b[0m\u001b[1;33m,\u001b[0m \u001b[0mcopy\u001b[0m\u001b[1;33m=\u001b[0m\u001b[1;32mFalse\u001b[0m\u001b[1;33m)\u001b[0m\u001b[1;33m\u001b[0m\u001b[1;33m\u001b[0m\u001b[0m\n\u001b[0;32m   1614\u001b[0m         \u001b[0ms\u001b[0m \u001b[1;33m=\u001b[0m \u001b[0ms\u001b[0m\u001b[1;33m.\u001b[0m\u001b[0mastype\u001b[0m\u001b[1;33m(\u001b[0m\u001b[0m_realType\u001b[0m\u001b[1;33m(\u001b[0m\u001b[0mresult_t\u001b[0m\u001b[1;33m)\u001b[0m\u001b[1;33m,\u001b[0m \u001b[0mcopy\u001b[0m\u001b[1;33m=\u001b[0m\u001b[1;32mFalse\u001b[0m\u001b[1;33m)\u001b[0m\u001b[1;33m\u001b[0m\u001b[1;33m\u001b[0m\u001b[0m\n",
            "\u001b[1;31mValueError\u001b[0m: array is too big; `arr.size * arr.dtype.itemsize` is larger than the maximum possible size."
          ]
        }
      ]
    },
    {
      "cell_type": "code",
      "metadata": {
        "id": "TWc7CeIgfiS2"
      },
      "source": [
        ""
      ],
      "execution_count": null,
      "outputs": []
    }
  ]
}