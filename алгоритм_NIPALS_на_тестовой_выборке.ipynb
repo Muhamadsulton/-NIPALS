{
  "nbformat": 4,
  "nbformat_minor": 0,
  "metadata": {
    "kernelspec": {
      "display_name": "Python 3",
      "language": "python",
      "name": "python3"
    },
    "language_info": {
      "codemirror_mode": {
        "name": "ipython",
        "version": 3
      },
      "file_extension": ".py",
      "mimetype": "text/x-python",
      "name": "python",
      "nbconvert_exporter": "python",
      "pygments_lexer": "ipython3",
      "version": "3.7.4"
    },
    "colab": {
      "name": "алгоритм NIPALS на тестовой выборке.ipynb",
      "provenance": [],
      "include_colab_link": true
    }
  },
  "cells": [
    {
      "cell_type": "markdown",
      "metadata": {
        "id": "view-in-github",
        "colab_type": "text"
      },
      "source": [
        "<a href=\"https://colab.research.google.com/github/Muhamadsulton/-/blob/main/%D0%B0%D0%BB%D0%B3%D0%BE%D1%80%D0%B8%D1%82%D0%BC_NIPALS_%D0%BD%D0%B0_%D1%82%D0%B5%D1%81%D1%82%D0%BE%D0%B2%D0%BE%D0%B9_%D0%B2%D1%8B%D0%B1%D0%BE%D1%80%D0%BA%D0%B5.ipynb\" target=\"_parent\"><img src=\"https://colab.research.google.com/assets/colab-badge.svg\" alt=\"Open In Colab\"/></a>"
      ]
    },
    {
      "cell_type": "code",
      "metadata": {
        "id": "InCsq1rLfEQU",
        "outputId": "d9deced0-aa7b-48dd-ff78-855c5c9f9372"
      },
      "source": [
        "import numpy as np\n",
        "e1=np.array([1,1,1,1,1,1,1,1,1,1,1,1,1,1,1,1],dtype=float) #the same as np.ones(8)\n",
        "e2=np.array([1,1,-1,-1,1,1,-1,-1,1,1,-1,-1,1,1,-1,-1],dtype=float)\n",
        "e3=np.array([1,-1,1,-1,1,-1,1,-1,1,-1,1,-1,1,-1,1,-1],dtype=float)\n",
        "e4=np.array([1,1,1,1,-1,-1,-1,-1,1,1,1,1,-1,-1,-1,-1],dtype=float)\n",
        "e5=np.array([1,1,1,1,1,1,1,1,-1,-1,-1,-1,-1,-1,-1,-1],dtype=float)\n",
        "#гененрируем случайную выборку\n",
        "np.random.seed(2214)\n",
        "for i in range(1):\n",
        "    x=(np.random.randint(-50,60,size=(150,1))*e1 + np.random.randint(-25,30,size=(150,1))*e2 + np.random.randint(-12,14,size=(150,1))*e3+np.random.randint(-8,16,size=(150,1))*e4+np.random.randint(-4,8,size=(150,1))*e5+np.random.random(size=(150,16)))\n",
        "#находим среднее значения каждого столбца в массиве\n",
        "m=x.mean(axis=0)\n",
        "Xcen=x-m #центрируем данные \n",
        "MeanC=Xcen.mean(axis=0)#взяли среднее столбцов в центрированом массиве должны быть близкие к нулю \n",
        "for i in range(16):#16количество столбцов \n",
        "    data=open(\"data.txt\",'a') #открыть файл на дозапись \n",
        "    tr=np.transpose(Xcen) #алгоритм Нипалс берем любой элемент из столбца для этого и транспонируем \n",
        "    t=tr[0] #берем начальную точку с генерированного массива\n",
        "    b=0.1\n",
        "    sqrt_a=1\n",
        "    while sqrt_a > b: #выполнять пока корень из а болье b\n",
        "#расчет вектора нагрузок \n",
        "        p1=np.matmul(np.transpose(t),Xcen) \n",
        "        p2=np.matmul(np.transpose(t),t)\n",
        "        p=p1/p2\n",
        "        pt=np.transpose(p)\n",
        "#делаем нормировку\n",
        "        p3=np.matmul(pt,p)\n",
        "        p_norm=p/np.sqrt(p3)\n",
        "        p4=np.matmul(p_norm,np.transpose(p_norm))\n",
        "#расчет вектор счетов\n",
        "        t1=np.matmul(Xcen,p_norm)\n",
        "        t_main=t1/p4\n",
        "        np.shape(t_main)\n",
        "#проверка сходимости ,если нет то вернуться к шагу 2 \n",
        "        Dt=t-t_main\n",
        "        a=np.matmul(np.transpose(Dt),Dt)\n",
        "        sqrt_a=np.sqrt(a)\n",
        "        t=t_main\n",
        "    t_a=t\n",
        "    p_a=p_norm\n",
        "    tNew=t_a[:,np.newaxis]\n",
        "    ptNew=p_norm[:,np.newaxis]\n",
        "    X1=np.matmul(tNew,np.transpose(ptNew))\n",
        "    Xcen=-X1+Xcen\n",
        "    Xcen_pow=np.power(Xcen,2)\n",
        "    Xcen_sum=np.sum(Xcen_pow)\n",
        "    print(Xcen_sum)\n",
        "    flo=Xcen_sum.astype(str)\n",
        "    data.write(flo + '\\n')\n",
        "    data.close"
      ],
      "execution_count": null,
      "outputs": [
        {
          "output_type": "stream",
          "text": [
            "924218.5959927714\n",
            "268013.9168557864\n",
            "133445.31179696173\n",
            "27137.160034703273\n",
            "131.1776540540432\n",
            "112.64363721072621\n",
            "96.72803035203\n",
            "82.31337256296203\n",
            "69.93482986846573\n",
            "56.84900743066203\n",
            "46.15994378702207\n",
            "33.799563696939\n",
            "23.593592397623098\n",
            "14.431842289596329\n",
            "7.4494876980796745\n",
            "6.032291810565319e-26\n"
          ],
          "name": "stdout"
        }
      ]
    },
    {
      "cell_type": "code",
      "metadata": {
        "id": "P8wJJN65fEQc",
        "outputId": "e1e5075e-748e-4985-e6eb-f34d3474162e"
      },
      "source": [
        "np.sum(t_main,axis=)"
      ],
      "execution_count": null,
      "outputs": [
        {
          "output_type": "execute_result",
          "data": {
            "text/plain": [
              "9.214851104388799e-14"
            ]
          },
          "metadata": {
            "tags": []
          },
          "execution_count": 4
        }
      ]
    },
    {
      "cell_type": "code",
      "metadata": {
        "id": "bwOcErVLfEQd",
        "outputId": "daec00c1-0ed6-47ec-dff4-5a90bd6285b9"
      },
      "source": [
        "np.shape(tNew)"
      ],
      "execution_count": null,
      "outputs": [
        {
          "output_type": "execute_result",
          "data": {
            "text/plain": [
              "(150, 1)"
            ]
          },
          "metadata": {
            "tags": []
          },
          "execution_count": 7
        }
      ]
    },
    {
      "cell_type": "code",
      "metadata": {
        "id": "PvICI77efEQe",
        "outputId": "d7ef9e2c-a687-48fb-89f2-fcc3cc575b69"
      },
      "source": [
        "t"
      ],
      "execution_count": null,
      "outputs": [
        {
          "output_type": "execute_result",
          "data": {
            "text/plain": [
              "array([-0.39015081, -0.26150243,  0.04924236,  0.01612436,  0.19411147,\n",
              "        0.31942994,  0.18813787, -0.21118754,  0.43345227, -0.19003598,\n",
              "       -0.05232574,  0.02801989, -0.40901316, -0.14085133, -0.14509757,\n",
              "        0.18810816, -0.17363044, -0.33692365,  0.16145726, -0.36074585,\n",
              "       -0.15051454, -0.08209124, -0.10164075, -0.32102277, -0.28754203,\n",
              "        0.16833318, -0.15008072,  0.10758505, -0.5446775 , -0.13797323,\n",
              "        0.24344013,  0.00072666, -0.13877712,  0.40103772, -0.22270944,\n",
              "        0.24821756,  0.186347  , -0.11039499, -0.27904081,  0.13558004,\n",
              "        0.13670684,  0.2406546 , -0.03357233,  0.13410594, -0.12102649,\n",
              "       -0.17281167,  0.12630321, -0.40504588,  0.06025403, -0.2668834 ,\n",
              "       -0.05137791,  0.09435737, -0.11325017,  0.18807774,  0.40328725,\n",
              "        0.00668462,  0.45930887, -0.10359396,  0.12172243, -0.44751562,\n",
              "        0.10836492,  0.11641982,  0.32461445,  0.36820988,  0.12670551,\n",
              "        0.09162779,  0.33366005,  0.06199616,  0.09356474, -0.18466158,\n",
              "        0.16865915,  0.08972759, -0.0416816 , -0.21344529, -0.0571812 ,\n",
              "        0.09599706, -0.08077215, -0.07542608, -0.03083811,  0.052912  ,\n",
              "       -0.01602004,  0.16642326,  0.18918129,  0.30127259, -0.7127581 ,\n",
              "       -0.14606899, -0.11420257, -0.11760433,  0.20928386, -0.2291389 ,\n",
              "       -0.25326574, -0.00945792, -0.04301794, -0.57424424,  0.09491826,\n",
              "       -0.0244403 , -0.09726855,  0.08848944,  0.10191974, -0.19478557,\n",
              "       -0.19646835,  0.47829132,  0.15917667, -0.26046686, -0.18494375,\n",
              "       -0.0967035 ,  0.18271257, -0.18624556, -0.13636459,  0.46097037,\n",
              "        0.14410269,  0.10139671,  0.48225041,  0.15529781, -0.19155196,\n",
              "        0.07785736, -0.19041789, -0.4012836 , -0.03887965,  0.00235882,\n",
              "       -0.07765309,  0.18637886, -0.24423931, -0.15436542,  0.06424297,\n",
              "        0.17765052, -0.01566112, -0.08343884, -0.09860704,  0.01917156,\n",
              "       -0.00227473,  0.11870536,  0.07502092, -0.08710867, -0.05143304,\n",
              "        0.30720314,  0.2096789 ,  0.1786266 ,  0.07031528,  0.38991402,\n",
              "        0.13185827, -0.04058219, -0.24192734,  0.23240187, -0.10227933,\n",
              "        0.12244986, -0.229017  ,  0.30373784,  0.41831458, -0.03364759])"
            ]
          },
          "metadata": {
            "tags": []
          },
          "execution_count": 10
        }
      ]
    },
    {
      "cell_type": "code",
      "metadata": {
        "id": "FoaiHwQcfEQe"
      },
      "source": [
        ""
      ],
      "execution_count": null,
      "outputs": []
    }
  ]
}