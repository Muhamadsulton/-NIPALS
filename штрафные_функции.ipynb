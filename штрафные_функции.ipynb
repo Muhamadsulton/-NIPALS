{
  "nbformat": 4,
  "nbformat_minor": 0,
  "metadata": {
    "kernelspec": {
      "display_name": "Python 3",
      "language": "python",
      "name": "python3"
    },
    "language_info": {
      "codemirror_mode": {
        "name": "ipython",
        "version": 3
      },
      "file_extension": ".py",
      "mimetype": "text/x-python",
      "name": "python",
      "nbconvert_exporter": "python",
      "pygments_lexer": "ipython3",
      "version": "3.7.4"
    },
    "colab": {
      "name": "штрафные функции.ipynb",
      "provenance": [],
      "include_colab_link": true
    }
  },
  "cells": [
    {
      "cell_type": "markdown",
      "metadata": {
        "id": "view-in-github",
        "colab_type": "text"
      },
      "source": [
        "<a href=\"https://colab.research.google.com/github/Muhamadsulton/-/blob/%D0%9C%D0%B5%D1%82%D0%BE%D0%B4%D1%8B-%D0%BE%D0%BF%D1%82%D0%B8%D0%BC%D0%B8%D0%B7%D0%B0%D1%86%D0%B8%D0%B8/%D1%88%D1%82%D1%80%D0%B0%D1%84%D0%BD%D1%8B%D0%B5_%D1%84%D1%83%D0%BD%D0%BA%D1%86%D0%B8%D0%B8.ipynb\" target=\"_parent\"><img src=\"https://colab.research.google.com/assets/colab-badge.svg\" alt=\"Open In Colab\"/></a>"
      ]
    },
    {
      "cell_type": "code",
      "metadata": {
        "id": "H3ckcXt7zRI-",
        "outputId": "9e3aae79-ba1d-49f4-f335-de355f683665"
      },
      "source": [
        "import math\n",
        "from scipy.optimize import minimize  # берем готовую библиотечную функцию minimize\n",
        "\n",
        "# задаим исходные данные в километрах\n",
        "\n",
        "h1 = 0.10  # 100 метров\n",
        "h2 = 0.10  # 100 метров\n",
        "l = 1  # 1000 метров\n",
        "\n",
        "v1 = 40  # 40 км/ч\n",
        "v2 = 30  # 30 км/ч\n",
        "\n",
        "c1 = 0.115  # л/км\n",
        "c2 = 0.15  # л/км\n",
        "\n",
        "#добавляем коэффицент alpha\n",
        "alpha = 0.1\n",
        "# описываем функцию, которую хотим минимизировать\n",
        "\n",
        "def func_to_minimize(x):\n",
        "    t1 = math.sqrt(h1 * h1 + x * x) / v1\n",
        "    t2 = math.sqrt(h2 * h2 + (l - x) * (l - x)) / v2\n",
        "    T = t1 + t2\n",
        "    L1 = math.sqrt(h1 ** 2 + x ** 2) * c1\n",
        "    L2 = math.sqrt(h2 ** 2 + (l - x)** 2) * c2\n",
        "    return L1 + L2 + 1 / T - 0.028 \n",
        "    \n",
        "# Зададим начальное значение x, пусть это будет самое начало поля, т.е., вначале мы поедем вериткально вверх,\n",
        "# а затем, как только достигнем конца засеянной части, кратчайшим путем поедем в правый верхний угол поля\n",
        "x = 0\n",
        "\n",
        "# а теперь минимизируем нашу функцию\n",
        "result = minimize(func_to_minimize, x)\n",
        "print(result)  # выведем наш результа на экран"
      ],
      "execution_count": null,
      "outputs": [
        {
          "output_type": "stream",
          "text": [
            "      fun: 4.2333674046388525\n",
            " hess_inv: array([[15.09156366]])\n",
            "      jac: array([4.17232513e-07])\n",
            "  message: 'Optimization terminated successfully.'\n",
            "     nfev: 39\n",
            "      nit: 12\n",
            "     njev: 13\n",
            "   status: 0\n",
            "  success: True\n",
            "        x: array([-7.47095194])\n"
          ],
          "name": "stdout"
        }
      ]
    },
    {
      "cell_type": "code",
      "metadata": {
        "id": "ix4cW_pyzRJA"
      },
      "source": [
        ""
      ],
      "execution_count": null,
      "outputs": []
    },
    {
      "cell_type": "code",
      "metadata": {
        "id": "nNs5_27TzRJA"
      },
      "source": [
        ""
      ],
      "execution_count": null,
      "outputs": []
    }
  ]
}